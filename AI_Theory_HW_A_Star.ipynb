{
 "cells": [
  {
   "cell_type": "markdown",
   "metadata": {},
   "source": [
    "### Implementing A Star Algorithm to find the shortest path when barriers exist\n",
    "#### The question is provided by Sebastian Lague from Youtube"
   ]
  },
  {
   "cell_type": "code",
   "execution_count": 2,
   "metadata": {
    "collapsed": true
   },
   "outputs": [],
   "source": [
    "import matplotlib.pyplot as plt\n",
    "from IPython.display import YouTubeVideo\n",
    "%matplotlib inline"
   ]
  },
  {
   "cell_type": "code",
   "execution_count": 6,
   "metadata": {},
   "outputs": [
    {
     "data": {
      "text/html": [
       "\n",
       "        <iframe\n",
       "            width=\"400\"\n",
       "            height=\"300\"\n",
       "            src=\"https://www.youtube.com/embed//-L-WgKMFuhE?t=180\"\n",
       "            frameborder=\"0\"\n",
       "            allowfullscreen\n",
       "        ></iframe>\n",
       "        "
      ],
      "text/plain": [
       "<IPython.lib.display.YouTubeVideo at 0x1f0a7ba89e8>"
      ]
     },
     "execution_count": 6,
     "metadata": {},
     "output_type": "execute_result"
    }
   ],
   "source": [
    "#The graphical representation of problem starts in 3:00\n",
    "YouTubeVideo('/-L-WgKMFuhE?t=180')"
   ]
  },
  {
   "cell_type": "code",
   "execution_count": 2,
   "metadata": {
    "collapsed": true
   },
   "outputs": [],
   "source": [
    "class AStarGraph(object):\n",
    "    #Define a class board like grid with two barriers\n",
    "\n",
    "    def __init__(self):\n",
    "        self.barriers = [(1,3),(2,3),(2,4),(2,5),(2,6),(2,7)]\n",
    "\n",
    "    def heuristic(self, start, goal):\n",
    "        #Uses Euclidean Distance as heuristic\n",
    "        diag = min(goal[1]-start[1],goal[0]-start[0])\n",
    "        straight = max(goal[1]-start[1],goal[0]-start[0])\n",
    "        return (14*diag + 10*straight)\n",
    "\n",
    "    def get_vertex_neighbours(self, pos):\n",
    "        n = []\n",
    "        for dx, dy in [(1,0),(-1,0),(0,1),(0,-1),(1,1),(-1,1),(1,-1),(-1,-1)]:\n",
    "            x2 = pos[0] + dx\n",
    "            y2 = pos[1] + dy\n",
    "            if x2 < 0 or x2 > 5 or y2 < 0 or y2 > 10 or (x2,y2) in self.barriers:\n",
    "                continue\n",
    "            n.append((x2, y2))\n",
    "        return n\n",
    "\n",
    "    def move_cost(self, a, b):\n",
    "        if abs(a[0]-b[0])+abs((a[1]-b[1])) == 1 :\n",
    "            cost = 10\n",
    "        else :\n",
    "            cost = 14\n",
    "        return cost"
   ]
  },
  {
   "cell_type": "code",
   "execution_count": 3,
   "metadata": {
    "collapsed": true
   },
   "outputs": [],
   "source": [
    " def AStarSearch(start, end, graph):\n",
    "\n",
    "    G = {} #Actual movement cost to each position from the start position\n",
    "    F = {} #Estimated movement cost of start to end\n",
    "\n",
    "    #Initialize starting values\n",
    "    G[start] = 0 \n",
    "    F[start] = graph.heuristic(start, end)\n",
    "\n",
    "    closed_list = set()\n",
    "    open_list = set([start])\n",
    "    cameFrom = {}\n",
    "\n",
    "    while len(open_list) > 0:\n",
    "        #Get the vertex in the open list with the lowest F score\n",
    "        current = None\n",
    "        currentFscore = None\n",
    "        for pos in open_list:\n",
    "            if current is None or F[pos] < currentFscore:\n",
    "                currentFscore = F[pos]\n",
    "                current = pos\n",
    "\n",
    "        #Check if we have reached the goal\n",
    "        if current == end:\n",
    "            #Retrace our route backward\n",
    "            path = [current]\n",
    "            while current in cameFrom:\n",
    "                current = cameFrom[current]\n",
    "                path.append(current)\n",
    "            path.reverse()\n",
    "            return path, F[end] \n",
    "\n",
    "        #Mark the current vertex as closed\n",
    "        open_list.remove(current)\n",
    "        closed_list.add(current)\n",
    "\n",
    "        #Update scores for vertices near the current position\n",
    "        for neighbour in graph.get_vertex_neighbours(current):\n",
    "            if neighbour in closed_list: \n",
    "                continue #We have already processed this node exhaustively\n",
    "            candidateG = G[current] + graph.move_cost(current, neighbour)\n",
    "\n",
    "            if neighbour not in open_list:\n",
    "                open_list.add(neighbour) #Discovered a new vertex\n",
    "            elif candidateG >= G[neighbour]:\n",
    "                continue #This G score is worse than previously found\n",
    "\n",
    "            #Adopt this G score\n",
    "            cameFrom[neighbour] = current\n",
    "            G[neighbour] = candidateG\n",
    "            H = graph.heuristic(neighbour, end)\n",
    "            F[neighbour] = G[neighbour] + H\n",
    "\n",
    "    raise RuntimeError(\"A* failed to find a solution\")\n",
    "    \n"
   ]
  },
  {
   "cell_type": "code",
   "execution_count": 4,
   "metadata": {
    "collapsed": true
   },
   "outputs": [],
   "source": [
    "graph = AStarGraph()"
   ]
  },
  {
   "cell_type": "code",
   "execution_count": 5,
   "metadata": {
    "collapsed": true
   },
   "outputs": [],
   "source": [
    "result = AStarSearch((4,7),(1,4),graph)"
   ]
  },
  {
   "cell_type": "code",
   "execution_count": 8,
   "metadata": {},
   "outputs": [
    {
     "name": "stdout",
     "output_type": "stream",
     "text": [
      "route [(4, 7), (3, 8), (2, 8), (1, 7), (1, 6), (1, 5), (1, 4)]\n",
      "cost 68\n"
     ]
    },
    {
     "data": {
      "image/png": "[encoded data removed]",
      "text/plain": [
       "<matplotlib.figure.Figure at 0x26f4c42aeb8>"
      ]
     },
     "metadata": {},
     "output_type": "display_data"
    }
   ],
   "source": [
    "result, cost = AStarSearch((4,7),(1,4), graph)\n",
    "print (\"route\", result)\n",
    "print (\"cost\", cost)\n",
    "plt.plot([v[1] for v in result], [v[0] for v in result],label='Shortest Path')\n",
    "plt.plot([v[1] for v in graph.barriers], [v[0] for v in graph.barriers], label='Barriers')\n",
    "plt.xlim(0,11)\n",
    "plt.ylim(5,0)\n",
    "plt.legend(loc='best')\n",
    "plt.show()"
   ]
  },
  {
   "cell_type": "code",
   "execution_count": 33,
   "metadata": {},
   "outputs": [
    {
     "data": {
      "text/plain": [
       "[(4, 7), (3, 8), (2, 8), (1, 7), (1, 6), (1, 5), (1, 4)]"
      ]
     },
     "execution_count": 33,
     "metadata": {},
     "output_type": "execute_result"
    }
   ],
   "source": [
    "result"
   ]
  },
  {
   "cell_type": "code",
   "execution_count": 30,
   "metadata": {},
   "outputs": [
    {
     "data": {
      "text/plain": [
       "[(1, 3), (2, 3), (2, 4), (2, 5), (2, 6), (2, 7)]"
      ]
     },
     "execution_count": 30,
     "metadata": {},
     "output_type": "execute_result"
    }
   ],
   "source": [
    "graph.barriers"
   ]
  }
 ],
 "metadata": {
  "kernelspec": {
   "display_name": "Python 3",
   "language": "python",
   "name": "python3"
  },
  "language_info": {
   "codemirror_mode": {
    "name": "ipython",
    "version": 3
   },
   "file_extension": ".py",
   "mimetype": "text/x-python",
   "name": "python",
   "nbconvert_exporter": "python",
   "pygments_lexer": "ipython3",
   "version": "3.6.3"
  }
 },
 "nbformat": 4,
 "nbformat_minor": 2
}
