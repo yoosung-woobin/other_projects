{
 "cells": [
  {
   "cell_type": "code",
   "execution_count": 1,
   "metadata": {
    "collapsed": true
   },
   "outputs": [],
   "source": [
    "import xml.etree.ElementTree as ET\n",
    "import numpy as np\n",
    "import urllib.request\n",
    "import datetime\n",
    "import pandas as pd"
   ]
  },
  {
   "cell_type": "code",
   "execution_count": 2,
   "metadata": {
    "collapsed": true
   },
   "outputs": [],
   "source": [
    "KEY = \"ServiceKey=mH%2B25bt2P2prJcN2iUm1pe%2Bpx4lnwd7zK%2BoZ0BTestuVTCCbH0R1fgDPFvVJdSA3hr04VDGXv3eoXh4mVUvWDw%3D%3D\""
   ]
  },
  {
   "cell_type": "code",
   "execution_count": 3,
   "metadata": {
    "collapsed": true
   },
   "outputs": [],
   "source": [
    "URL = \"http://apis.data.go.kr/1230000/CntrctInfoService/getCntrctInfoListServc?inqryDiv=1&\""
   ]
  },
  {
   "cell_type": "code",
   "execution_count": null,
   "metadata": {
    "collapsed": true
   },
   "outputs": [],
   "source": [
    "def text_get(tr, item):\n",
    "    try: \n",
    "        return tr.find(item).text\n",
    "    except: \n",
    "        return None"
   ]
  },
  {
   "cell_type": "code",
   "execution_count": 4,
   "metadata": {
    "collapsed": true
   },
   "outputs": [],
   "source": [
    "# 건수 '13: 292,766 '14: 288,399 '15:338,839 '16:394,791\n",
    "day_start = []\n",
    "day_end   = []\n",
    "for j in range(3,7) :\n",
    "    a = datetime.datetime(2010+j,1,1,0,0)\n",
    "    for i in range(4):\n",
    "        day_start.append(a.replace(month=3*i+1))\n",
    "for i in range(16):\n",
    "    day_end.append(day_start[i]-datetime.timedelta(minutes=1))\n",
    "day_end.append(datetime.datetime(2016,12,31,23,59))\n",
    "day_end.remove(datetime.datetime(2012,12,31,23,59))"
   ]
  },
  {
   "cell_type": "code",
   "execution_count": 5,
   "metadata": {
    "collapsed": true
   },
   "outputs": [],
   "source": [
    "columns=['untyCntrctNo','bsnsDivNm','dcsnCntrctNo','cntrctRefNo','cntrctNm','cmmnCntrctYn','lngtrmCtnuDivNm','cntrctCnclsDate','cntrctPrd','baseLawNm','totCntrctAmt','thtmCntrctAmt','grntymnyRate','cntrctInfoUrl','payDivNm','reqNo','ntceNo','계약기관명','계약기관소관구분명','계약기관담당부서명','계약기관담당자명','수요기관목록','업체목록','계약상세정보URL','채권자명','근거내역','계약체결방법명','등록일시','변경일시']"
   ]
  },
  {
   "cell_type": "code",
   "execution_count": null,
   "metadata": {
    "collapsed": true
   },
   "outputs": [],
   "source": [
    "###### 최종 정리용 Loop-구문\n",
    "for i in range(16) :\n",
    "    df=[];\n",
    "    pageNo=\"pageNo=\" + str(1) + \"&\"\n",
    "    day_range = \"inqryBgnDt=\" + str(day_start[i].strftime('%Y%m%d%H%M')) + \"&\" + \"inqryEndDt=\" + str(day_end[i].strftime('%Y%m%d%H%M'))\n",
    "    numofRows=\"&numOfRows=100&\"\n",
    "    address = URL+day_range+numofRows+pageNo+KEY\n",
    "    request = urllib.request.Request(address)\n",
    "    response = urllib.request.urlopen(request)\n",
    "    response_body = response.read().decode('utf-8')\n",
    "    soup = BeautifulSoup(response_body,'lxml')\n",
    "    count = int(soup.find('totalcount').text)\n",
    "    table_rows = soup.find_all('item')\n",
    "    for tr in table_rows:\n",
    "        df.append(\n",
    "        [text_get(tr,'untycntrctno'),\n",
    "         text_get(tr,'bsnsdivnm'),\n",
    "         text_get(tr,'dcsncntrctno'),\n",
    "         text_get(tr,'cntrctrefno'),\n",
    "         text_get(tr,'cntrctnm'),\n",
    "         text_get(tr,'cmmncntrctyn'),\n",
    "         text_get(tr,'lngtrmctnudivnm'),\n",
    "         text_get(tr,'cntrctcnclsdate'),\n",
    "         text_get(tr,'cntrctprd'),\n",
    "         text_get(tr,'baselawnm'),\n",
    "         text_get(tr,'totcntrctamt'),\n",
    "         text_get(tr,'thtmcntrctamt'),\n",
    "         text_get(tr,'grntymnyrate'),\n",
    "         text_get(tr,'cntrctinfourl'),\n",
    "         text_get(tr,'paydivnm'),\n",
    "         text_get(tr,'reqno'),\n",
    "         text_get(tr,'ntceno'),\n",
    "         text_get(tr,'cntrctinsttcd'),\n",
    "         text_get(tr,'cntrctinsttnm'),\n",
    "         text_get(tr,'cntrctinsttjrsdctndivnm'),\n",
    "         text_get(tr,'cntrctinsttchrgdeptnm'),\n",
    "         text_get(tr,'cntrctinsttofclnm'),                  \n",
    "         text_get(tr,'dminsttlist'),\n",
    "         text_get(tr,'corplist'),\n",
    "         text_get(tr,'cntrctdtlinfourl'),\n",
    "         text_get(tr,'crdtrnm'),\n",
    "         text_get(tr,'basedtls'),\n",
    "         text_get(tr,'cntrctcnclsmthdnm'),\n",
    "         text_get(tr,'rgstdt'),        \n",
    "         text_get(tr,'chgdt')]\n",
    "        )\n",
    "    for j in range(count//100) :\n",
    "        pageNo=\"pageNo=\" + str(j+2) + \"&\"\n",
    "        day_range = \"inqryBgnDt=\" + str(day_start[4*i].strftime('%Y%m%d%H%M')) + \"&\" + \"inqryEndDt=\" + str(day_end[4*i].strftime('%Y%m%d%H%M'))\n",
    "        numofRows=\"&numOfRows=100&\"\n",
    "        address = URL+day_range+numofRows+pageNo+KEY\n",
    "        request = urllib.request.Request(address)\n",
    "        response = urllib.request.urlopen(request)\n",
    "        response_body = response.read().decode('utf-8')\n",
    "        soup = BeautifulSoup(response_body,'lxml')\n",
    "        count = soup.find('totalcount').text\n",
    "        table_rows = soup.find_all('item')\n",
    "        for tr in table_rows:\n",
    "            df.append(\n",
    "            [text_get(tr,'untycntrctno'),\n",
    "             text_get(tr,'bsnsdivnm'),\n",
    "             text_get(tr,'dcsncntrctno'),\n",
    "             text_get(tr,'cntrctrefno'),\n",
    "             text_get(tr,'cntrctnm'),\n",
    "             text_get(tr,'cmmncntrctyn'),\n",
    "             text_get(tr,'lngtrmctnudivnm'),\n",
    "             text_get(tr,'cntrctcnclsdate'),\n",
    "             text_get(tr,'cntrctprd'),\n",
    "             text_get(tr,'baselawnm'),\n",
    "             text_get(tr,'totcntrctamt'),\n",
    "             text_get(tr,'thtmcntrctamt'),\n",
    "             text_get(tr,'grntymnyrate'),\n",
    "             text_get(tr,'cntrctinfourl'),\n",
    "             text_get(tr,'paydivnm'),\n",
    "             text_get(tr,'reqno'),\n",
    "             text_get(tr,'ntceno'),\n",
    "             text_get(tr,'cntrctinsttcd'),\n",
    "             text_get(tr,'cntrctinsttnm'),\n",
    "             text_get(tr,'cntrctinsttjrsdctndivnm'),\n",
    "             text_get(tr,'cntrctinsttchrgdeptnm'),\n",
    "             text_get(tr,'cntrctinsttofclnm'),\n",
    "             text_get(tr,'cntrctinsttofcltelno'),\n",
    "             text_get(tr,'cntrctinsttofclfaxno'),\n",
    "             text_get(tr,'dminsttlist'),\n",
    "             text_get(tr,'corplist'),\n",
    "             text_get(tr,'cntrctdtlinfourl'),\n",
    "             text_get(tr,'crdtrnm'),\n",
    "             text_get(tr,'basedtls'),\n",
    "             text_get(tr,'cntrctcnclsmthdnm'),\n",
    "             text_get(tr,'rgstdt'),        \n",
    "             text_get(tr,'chgdt')]\n",
    "            )\n",
    "        \n",
    "        \n",
    "       \n",
    "        \n",
    "    jodal=pd.DataFrame(df)\n",
    "    jodal.to_excel(\"C:/Users/Administrator/Desktop/jodal_{0}.xlsx\".format(i), index=False)\n",
    "        "
   ]
  },
  {
   "cell_type": "code",
   "execution_count": 6,
   "metadata": {},
   "outputs": [
    {
     "ename": "IndexError",
     "evalue": "child index out of range",
     "output_type": "error",
     "traceback": [
      "\u001b[1;31m---------------------------------------------------------------------------\u001b[0m",
      "\u001b[1;31mIndexError\u001b[0m                                Traceback (most recent call last)",
      "\u001b[1;32m<ipython-input-6-b9c17e89ad29>\u001b[0m in \u001b[0;36m<module>\u001b[1;34m()\u001b[0m\n\u001b[0;32m     14\u001b[0m             \u001b[0mcount\u001b[0m \u001b[1;33m=\u001b[0m \u001b[0mint\u001b[0m\u001b[1;33m(\u001b[0m\u001b[0mtree\u001b[0m\u001b[1;33m.\u001b[0m\u001b[0mfindtext\u001b[0m\u001b[1;33m(\u001b[0m\u001b[1;34m'body/totalCount'\u001b[0m\u001b[1;33m)\u001b[0m\u001b[1;33m)\u001b[0m\u001b[1;33m\u001b[0m\u001b[0m\n\u001b[0;32m     15\u001b[0m         \u001b[1;32melse\u001b[0m \u001b[1;33m:\u001b[0m \u001b[1;32mpass\u001b[0m\u001b[1;33m\u001b[0m\u001b[0m\n\u001b[1;32m---> 16\u001b[1;33m         \u001b[1;32mif\u001b[0m \u001b[0mtree\u001b[0m\u001b[1;33m[\u001b[0m\u001b[1;36m1\u001b[0m\u001b[1;33m]\u001b[0m\u001b[1;33m[\u001b[0m\u001b[1;36m0\u001b[0m\u001b[1;33m]\u001b[0m\u001b[1;33m.\u001b[0m\u001b[0mtag\u001b[0m \u001b[1;33m==\u001b[0m \u001b[1;34m'items'\u001b[0m \u001b[1;33m:\u001b[0m\u001b[1;33m\u001b[0m\u001b[0m\n\u001b[0m\u001b[0;32m     17\u001b[0m             \u001b[1;32mfor\u001b[0m \u001b[0mtr\u001b[0m \u001b[1;32min\u001b[0m \u001b[0mtree\u001b[0m\u001b[1;33m[\u001b[0m\u001b[1;36m1\u001b[0m\u001b[1;33m]\u001b[0m\u001b[1;33m[\u001b[0m\u001b[1;36m0\u001b[0m\u001b[1;33m]\u001b[0m\u001b[1;33m.\u001b[0m\u001b[0miterfind\u001b[0m\u001b[1;33m(\u001b[0m\u001b[1;34m'item'\u001b[0m\u001b[1;33m)\u001b[0m \u001b[1;33m:\u001b[0m\u001b[1;33m\u001b[0m\u001b[0m\n\u001b[0;32m     18\u001b[0m                     df.append(\n",
      "\u001b[1;31mIndexError\u001b[0m: child index out of range"
     ]
    }
   ],
   "source": [
    "###### 최종 정리용 While Loop-구문 (위에 보다 단순하게 기록)\n",
    "for i in range(16) :\n",
    "    df=[]; j=1; count=1000;\n",
    "    numofRows = \"&numOfRows=100&\"\n",
    "    while (j<=(count//100+1)) :        \n",
    "        pageNo=\"pageNo=\" + str(j) + \"&\"\n",
    "        day_range = \"inqryBgnDt=\" + str(day_start[i].strftime('%Y%m%d%H%M')) + \"&\" + \"inqryEndDt=\" + str(day_end[i].strftime('%Y%m%d%H%M'))\n",
    "        address = URL+day_range+numofRows+pageNo+KEY\n",
    "        request = urllib.request.Request(address)\n",
    "        response = urllib.request.urlopen(request)\n",
    "        response_body = response.read().decode('utf-8')\n",
    "        tree = ET.fromstring(response_body)        \n",
    "        if j==1 :            \n",
    "            count = int(tree.findtext('body/totalCount'))\n",
    "        else : pass       \n",
    "        if tree[1][0].tag == 'items' :                    \n",
    "            for tr in tree[1][0].iterfind('item') :\n",
    "                    df.append(\n",
    "                    [tr.findtext('untyCntrctNo'),\n",
    "                     tr.findtext('bsnsDivNm'),\n",
    "                     tr.findtext('dcsnCntrctNo'),\n",
    "                     tr.findtext('cntrctRefNo'),\n",
    "                     tr.findtext('cntrctNm'),\n",
    "                     tr.findtext('cmmnCntrctYn'),\n",
    "                     tr.findtext('lngtrmCtnuDivNm'),\n",
    "                     tr.findtext('cntrctCnclsDate'),\n",
    "                     tr.findtext('cntrctPrd'),\n",
    "                     tr.findtext('baseLawNm'),\n",
    "                     tr.findtext('totCntrctAmt'),\n",
    "                     tr.findtext('thtmCntrctAmt'),\n",
    "                     tr.findtext('grntymnyRate'),\n",
    "                     tr.findtext('cntrctInfoUrl'),\n",
    "                     tr.findtext('payDivNm'),\n",
    "                     tr.findtext('reqNo'),\n",
    "                     tr.findtext('ntceNo'),\n",
    "                     tr.findtext('cntrctInsttNm'),\n",
    "                     tr.findtext('cntrctInsttJrsdctnDivNm'),\n",
    "                     tr.findtext('cntrctInsttChrgDeptNm'),\n",
    "                     tr.findtext('cntrctInsttOfclNm'),\n",
    "                     tr.findtext('dminsttList'),\n",
    "                     tr.findtext('corpList'),\n",
    "                     tr.findtext('cntrctDtlInfoUrl'),\n",
    "                     tr.findtext('crdtrNm'),\n",
    "                     tr.findtext('baseDtls'),\n",
    "                     tr.findtext('cntrctCnclsMthdNm'),\n",
    "                     tr.findtext('rgstDt'),  \n",
    "                     tr.findtext('chgDt')]\n",
    "                    )\n",
    "        j+=1\n",
    "        \n",
    "    jodal=pd.DataFrame(df, columns=columns)\n",
    "    jodal.to_excel(\"C:/Users/Administrator/Desktop/jodal_{0}_{1}.xlsx\".format(day_start[i],day_end[i]), index=False)\n",
    "        "
   ]
  },
  {
   "cell_type": "code",
   "execution_count": 7,
   "metadata": {},
   "outputs": [
    {
     "data": {
      "text/plain": [
       "'http://apis.data.go.kr/1230000/CntrctInfoService/getCntrctInfoListServc?inqryDiv=1&inqryBgnDt=201301010000&inqryEndDt=201303312359&numOfRows=100&pageNo=598&ServiceKey=mH%2B25bt2P2prJcN2iUm1pe%2Bpx4lnwd7zK%2BoZ0BTestuVTCCbH0R1fgDPFvVJdSA3hr04VDGXv3eoXh4mVUvWDw%3D%3D'"
      ]
     },
     "execution_count": 7,
     "metadata": {},
     "output_type": "execute_result"
    }
   ],
   "source": [
    "address"
   ]
  },
  {
   "cell_type": "code",
   "execution_count": null,
   "metadata": {
    "collapsed": true
   },
   "outputs": [],
   "source": [
    "jodal=pd.DataFrame(df)"
   ]
  },
  {
   "cell_type": "code",
   "execution_count": null,
   "metadata": {
    "collapsed": true
   },
   "outputs": [],
   "source": [
    "jodal.to_excel(\"C:/Users/Administrator/Desktop/jodal_20161231.xlsx\", index=False)"
   ]
  },
  {
   "cell_type": "code",
   "execution_count": null,
   "metadata": {
    "collapsed": true
   },
   "outputs": [],
   "source": [
    "child_insurance"
   ]
  },
  {
   "cell_type": "markdown",
   "metadata": {},
   "source": [
    "### 아래의 내용은 위의 내용을 도출하기 위한 연습 과정"
   ]
  },
  {
   "cell_type": "code",
   "execution_count": null,
   "metadata": {
    "collapsed": true
   },
   "outputs": [],
   "source": [
    "#API 불러오기 및 Parsing Test용 구문\n",
    "URL = \"http://apis.data.go.kr/1230000/CntrctInfoService/getCntrctInfoListServc?inqryDiv=1&\"\n",
    "KEY = \"ServiceKey=mH%2B25bt2P2prJcN2iUm1pe%2Bpx4lnwd7zK%2BoZ0BTestuVTCCbH0R1fgDPFvVJdSA3hr04VDGXv3eoXh4mVUvWDw%3D%3D\"\n",
    "pageNo=\"pageNo=\" + str(1) + \"&\"\n",
    "day_range = \"inqryBgnDt=\" + str(day_start[1]) + \"&\" + \"inqryEndDt=\" + str(day_end[1]) + \"&numOfRows=100&\"\n",
    "address = URL+day_range+pageNo+KEY\n",
    "request = urllib.request.Request(address)\n",
    "response = urllib.request.urlopen(request)\n",
    "response_body = response.read().decode('utf-8')"
   ]
  },
  {
   "cell_type": "code",
   "execution_count": null,
   "metadata": {
    "collapsed": true
   },
   "outputs": [],
   "source": [
    "soup = BeautifulSoup(response_body,'lxml')\n",
    "rescode = soup.find('resultmsg').text"
   ]
  },
  {
   "cell_type": "code",
   "execution_count": null,
   "metadata": {
    "collapsed": true
   },
   "outputs": [],
   "source": [
    "response_body = response.read().decode('utf-8')"
   ]
  },
  {
   "cell_type": "code",
   "execution_count": null,
   "metadata": {
    "collapsed": true
   },
   "outputs": [],
   "source": [
    "soup = BeautifulSoup(response_body, 'lxml')"
   ]
  },
  {
   "cell_type": "code",
   "execution_count": null,
   "metadata": {
    "collapsed": true
   },
   "outputs": [],
   "source": [
    "table_rows = soup.find_all('item')"
   ]
  },
  {
   "cell_type": "code",
   "execution_count": null,
   "metadata": {
    "collapsed": true
   },
   "outputs": [],
   "source": [
    "table_rows"
   ]
  },
  {
   "cell_type": "code",
   "execution_count": null,
   "metadata": {
    "collapsed": true
   },
   "outputs": [],
   "source": []
  }
 ],
 "metadata": {
  "anaconda-cloud": {},
  "kernelspec": {
   "display_name": "Python 3",
   "language": "python",
   "name": "python3"
  },
  "language_info": {
   "codemirror_mode": {
    "name": "ipython",
    "version": 3
   },
   "file_extension": ".py",
   "mimetype": "text/x-python",
   "name": "python",
   "nbconvert_exporter": "python",
   "pygments_lexer": "ipython3",
   "version": "3.6.3"
  }
 },
 "nbformat": 4,
 "nbformat_minor": 2
}
