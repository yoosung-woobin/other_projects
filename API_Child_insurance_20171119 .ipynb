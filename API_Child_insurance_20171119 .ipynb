{
 "cells": [
  {
   "cell_type": "code",
   "execution_count": 7,
   "metadata": {
    "collapsed": false
   },
   "outputs": [],
   "source": [
    "#from bs4 import BeautifulSoup\n",
    "from bs4 import BeautifulSoup\n",
    "import numpy as np\n",
    "import urllib.request\n",
    "import datetime\n",
    "import pandas as pd"
   ]
  },
  {
   "cell_type": "code",
   "execution_count": 2,
   "metadata": {
    "collapsed": true
   },
   "outputs": [],
   "source": [
    "KEY = \"ServiceKey=mH%2B25bt2P2prJcN2iUm1pe%2Bpx4lnwd7zK%2BoZ0BTestuVTCCbH0R1fgDPFvVJdSA3hr04VDGXv3eoXh4mVUvWDw%3D%3D\""
   ]
  },
  {
   "cell_type": "code",
   "execution_count": 3,
   "metadata": {
    "collapsed": true
   },
   "outputs": [],
   "source": [
    "URL = \"http://openapi.cpf.go.kr/openapi/service/rest/ChildPlyFcltInsrncSbscrbInfoService/getInsrncSbscrbInfo?\""
   ]
  },
  {
   "cell_type": "code",
   "execution_count": null,
   "metadata": {
    "collapsed": false
   },
   "outputs": [],
   "source": [
    "start = datetime.datetime(year=2016,month=1,day=1)"
   ]
  },
  {
   "cell_type": "code",
   "execution_count": null,
   "metadata": {
    "collapsed": true
   },
   "outputs": [],
   "source": [
    "day_range=(datetime.datetime.now()-start).days"
   ]
  },
  {
   "cell_type": "code",
   "execution_count": 4,
   "metadata": {
    "collapsed": true
   },
   "outputs": [],
   "source": [
    "KEY = \"ServiceKey=mH%2B25bt2P2prJcN2iUm1pe%2Bpx4lnwd7zK%2BoZ0BTestuVTCCbH0R1fgDPFvVJdSA3hr04VDGXv3eoXh4mVUvWDw%3D%3D\"\n",
    "URL = \"http://openapi.cpf.go.kr/openapi/service/rest/ChildPlyFcltInsrncSbscrbInfoService/getInsrncSbscrbInfo?\"\n",
    "df=[]"
   ]
  },
  {
   "cell_type": "code",
   "execution_count": null,
   "metadata": {
    "collapsed": true
   },
   "outputs": [],
   "source": [
    "###### 최종 정리용 Loop-구문\n",
    "for i in range(day_range) :\n",
    "    date = start+datetime.timedelta(days=i)\n",
    "    cieEntdate=\"cieEntdate=\" + datetime.datetime.strftime(date,'%Y%m%d')\n",
    "    address = URL+KEY+\"&\"+cieEntdate\n",
    "    request = urllib.request.Request(address)\n",
    "    response = urllib.request.urlopen(request)\n",
    "    response_body = response.read().decode('utf-8')\n",
    "    soup = BeautifulSoup(response_body,'lxml')\n",
    "    table_rows = soup.find_all('item')\n",
    "    for tr in table_rows:\n",
    "        df.append(\n",
    "        [tr.find('ciinstall').text,\n",
    "        tr.find('ciname').text,\n",
    "        tr.find('ciseq').text,\n",
    "        tr.find('ciecompany').text,\n",
    "        #tr.find('ciecontent').text,\n",
    "        tr.find('cieentdate').text,\n",
    "        tr.find('cieexpdate').text,\n",
    "        tr.find('ciename').text,\n",
    "        tr.find('cieno').text,\n",
    "        tr.find('cieseq').text,\n",
    "        tr.find('code1').text,\n",
    "        tr.find('code3').text,\n",
    "        tr.find('name1').text,\n",
    "        tr.find('name3').text]\n",
    "        )"
   ]
  },
  {
   "cell_type": "code",
   "execution_count": 5,
   "metadata": {
    "collapsed": true
   },
   "outputs": [],
   "source": [
    "columns = ['설치일자','놀이시설명','놀이시설일련번호','보험사','가입일자','만기일자',\n",
    "          '보험상품명','보험증원번호','보험가입일련번호','설치장소코드','지역분류코드',\n",
    "          '설치장소','주소']"
   ]
  },
  {
   "cell_type": "code",
   "execution_count": null,
   "metadata": {
    "collapsed": false
   },
   "outputs": [],
   "source": [
    "child_insurance=pd.DataFrame(df,columns=columns)"
   ]
  },
  {
   "cell_type": "code",
   "execution_count": 9,
   "metadata": {
    "collapsed": true
   },
   "outputs": [],
   "source": [
    "#API 불러오기 및 Parsing Test용 구문\n",
    "cieEntdate = \"cieEntdate=20160101\"\n",
    "address = URL+KEY+\"&\"+cieEntdate\n",
    "request = urllib.request.Request(address)\n",
    "response = urllib.request.urlopen(request)\n",
    "response_body = response.read().decode('utf-8')"
   ]
  },
  {
   "cell_type": "code",
   "execution_count": null,
   "metadata": {
    "collapsed": true
   },
   "outputs": [],
   "source": [
    "request = urllib.request.Request(address)\n",
    "response = urllib.request.urlopen(request)"
   ]
  },
  {
   "cell_type": "code",
   "execution_count": null,
   "metadata": {
    "collapsed": true
   },
   "outputs": [],
   "source": [
    "response_body"
   ]
  },
  {
   "cell_type": "code",
   "execution_count": null,
   "metadata": {
    "collapsed": true
   },
   "outputs": [],
   "source": [
    "soup = BeautifulSoup(response_body, 'lxml')"
   ]
  },
  {
   "cell_type": "code",
   "execution_count": null,
   "metadata": {
    "collapsed": true
   },
   "outputs": [],
   "source": [
    "table_rows = soup.find_all('item')"
   ]
  },
  {
   "cell_type": "code",
   "execution_count": null,
   "metadata": {
    "collapsed": false
   },
   "outputs": [],
   "source": [
    "df = []\n",
    "for tr in table_rows:\n",
    "    try :\n",
    "        ciInstall = tr.find('ciinstall').text\n",
    "        ciName = tr.find('ciname').text\n",
    "        ciSeq = tr.find('ciseq').text\n",
    "        cieCompany = tr.find('ciecompany').text\n",
    "        #cieContent = tr.find('ciecontent').text\n",
    "        cieEntdate = tr.find('cieentdate').text\n",
    "        cieExpdate = tr.find('cieexpdate').text\n",
    "        cieName = tr.find('ciename').text\n",
    "        cieNo = tr.find('cieno').text\n",
    "        cieSeq = tr.find('cieseq').text\n",
    "        code1 = tr.find('code1').text\n",
    "        code3 = tr.find('code3').text\n",
    "        name1 = tr.find('name1').text\n",
    "        name1 = tr.find('name3').text\n",
    "        \n",
    "    except  : "
   ]
  },
  {
   "cell_type": "markdown",
   "metadata": {},
   "source": [
    "# Return Variable Information\n",
    "* ciInstall : 설치일자\n",
    "* ciName : 놀이시설명\n",
    "* ciSeq : 놀이시설일련번호\n",
    "* cieCompany : 보험사\n",
    "* cieContent :보험내용\n",
    "* cieEntdate : 가입일자\n",
    "* cieExpdate : 만기일자\n",
    "* cieName : 보험상품명\n",
    "* cieNo : 보험증원번호\n",
    "* cieSeq : 보험가입일련번호\n",
    "* code1 : 설치장소코드\n",
    "* code3 : 지역분류코드\n",
    "* name1 : 설치장소\n",
    "* name3 : 주소\n"
   ]
  },
  {
   "cell_type": "code",
   "execution_count": null,
   "metadata": {
    "collapsed": true
   },
   "outputs": [],
   "source": []
  }
 ],
 "metadata": {
  "anaconda-cloud": {},
  "kernelspec": {
   "display_name": "Python [Root]",
   "language": "python",
   "name": "Python [Root]"
  },
  "language_info": {
   "codemirror_mode": {
    "name": "ipython",
    "version": 3
   },
   "file_extension": ".py",
   "mimetype": "text/x-python",
   "name": "python",
   "nbconvert_exporter": "python",
   "pygments_lexer": "ipython3",
   "version": "3.5.2"
  }
 },
 "nbformat": 4,
 "nbformat_minor": 2
}
